{
 "cells": [
  {
   "cell_type": "code",
   "execution_count": null,
   "id": "76df5672",
   "metadata": {},
   "outputs": [],
   "source": [
    "import pandas as pd\n",
    "data = pd.read_csv(\"buy.csv\",index_col=0)\n",
    "age_dict = {'<=30': 0., '[31,40]':1., '>40': 2.}\n",
    "data['Age'] = data['Age'].map(age_dict)\n",
    "\n",
    "incoming_dict = {'low': 0., 'medium': 1., 'high': 2.}\n",
    "data['Incoming'] = data['Incoming'].map(incoming_dict)\n",
    "\n",
    "student_dict = {'yes': 1., 'no': 0.}\n",
    "data['Student'] = data['Student'].map(student_dict)\n",
    "\n",
    "credict_rating_dict = {'fair': 0., 'excellent': 1.}\n",
    "data['Credit Rating'] = data['Credit Rating'].map(credict_rating_dict)\n",
    "data.head\n",
    "\n",
    "feature = data[['Age','Incoming','Student','Credit Rating']]\n",
    "target = data[['Buying']]\n",
    "from sklearn import tree\n",
    "model = tree.DecisionTreeClassifier()\n",
    "model = model.fit(feature,target)\n",
    "import graphviz\n",
    "dot_data = tree.export_graphviz(model,out_file=None)\n",
    "graph = graphviz.Source(dot_data)\n",
    "graph.render('iris_decision_tree')\n"
   ]
  }
 ],
 "metadata": {
  "kernelspec": {
   "display_name": "Python 3 (ipykernel)",
   "language": "python",
   "name": "python3"
  },
  "language_info": {
   "codemirror_mode": {
    "name": "ipython",
    "version": 3
   },
   "file_extension": ".py",
   "mimetype": "text/x-python",
   "name": "python",
   "nbconvert_exporter": "python",
   "pygments_lexer": "ipython3",
   "version": "3.9.12"
  }
 },
 "nbformat": 4,
 "nbformat_minor": 5
}
